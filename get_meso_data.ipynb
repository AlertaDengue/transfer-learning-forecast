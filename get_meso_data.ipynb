{
 "cells": [
  {
   "cell_type": "code",
   "execution_count": 6,
   "id": "27c75e6a",
   "metadata": {},
   "outputs": [],
   "source": [
    "import pickle\n",
    "import getpass, os\n",
    "import numpy as np\n",
    "import pandas as pd\n",
    "from dotenv import load_dotenv\n",
    "from sqlalchemy import create_engine\n",
    "# Carrega as variáveis de ambiente do arquivo .env\n",
    "load_dotenv()\n",
    "\n",
    "os.environ['PSQL_USER']=os.getenv('PSQL_USER')\n",
    "os.environ['PSQL_PASSWORD']=os.getenv('PSQL_PASSWORD')\n",
    "os.environ['PSQL_HOST']=os.getenv('PSQL_HOST')\n",
    "os.environ['PSQL_DB']=os.getenv('PSQL_DB')\n",
    "os.environ['PSQL_PORT']=os.getenv('PSQL_PORT')"
   ]
  },
  {
   "cell_type": "code",
   "execution_count": 7,
   "id": "a1d10c8d",
   "metadata": {},
   "outputs": [],
   "source": [
    "def make_connection():\n",
    "    conexao = create_engine(\"postgresql://{}:{}@{}:{}/{}\".format(os.getenv('PSQL_USER'),\n",
    "                                                              os.getenv('PSQL_PASSWORD'),\n",
    "                                                              os.getenv('PSQL_HOST'),\n",
    "                                                              os.getenv('PSQL_PORT'),\n",
    "                                                              os.getenv('PSQL_DB')))\n",
    "\n",
    "    return conexao"
   ]
  },
  {
   "cell_type": "code",
   "execution_count": 8,
   "id": "5e647f54",
   "metadata": {},
   "outputs": [
    {
     "data": {
      "text/html": [
       "<div>\n",
       "<style scoped>\n",
       "    .dataframe tbody tr th:only-of-type {\n",
       "        vertical-align: middle;\n",
       "    }\n",
       "\n",
       "    .dataframe tbody tr th {\n",
       "        vertical-align: top;\n",
       "    }\n",
       "\n",
       "    .dataframe thead th {\n",
       "        text-align: right;\n",
       "    }\n",
       "</style>\n",
       "<table border=\"1\" class=\"dataframe\">\n",
       "  <thead>\n",
       "    <tr style=\"text-align: right;\">\n",
       "      <th></th>\n",
       "      <th>geocodigo</th>\n",
       "      <th>nome</th>\n",
       "      <th>nome</th>\n",
       "      <th>codigo</th>\n",
       "      <th>nome</th>\n",
       "      <th>codigo</th>\n",
       "    </tr>\n",
       "  </thead>\n",
       "  <tbody>\n",
       "    <tr>\n",
       "      <th>0</th>\n",
       "      <td>1100015</td>\n",
       "      <td>Alta Floresta D'Oeste</td>\n",
       "      <td>Zona da Mata</td>\n",
       "      <td>11005</td>\n",
       "      <td>Cacoal</td>\n",
       "      <td>1101</td>\n",
       "    </tr>\n",
       "    <tr>\n",
       "      <th>1</th>\n",
       "      <td>1100023</td>\n",
       "      <td>Ariquemes</td>\n",
       "      <td>Vale do Jamari</td>\n",
       "      <td>11001</td>\n",
       "      <td>Porto Velho</td>\n",
       "      <td>1102</td>\n",
       "    </tr>\n",
       "    <tr>\n",
       "      <th>2</th>\n",
       "      <td>1100031</td>\n",
       "      <td>Cabixi</td>\n",
       "      <td>Cone Sul</td>\n",
       "      <td>11006</td>\n",
       "      <td>Cacoal</td>\n",
       "      <td>1101</td>\n",
       "    </tr>\n",
       "    <tr>\n",
       "      <th>3</th>\n",
       "      <td>1100049</td>\n",
       "      <td>Cacoal</td>\n",
       "      <td>Café</td>\n",
       "      <td>11002</td>\n",
       "      <td>Cacoal</td>\n",
       "      <td>1101</td>\n",
       "    </tr>\n",
       "    <tr>\n",
       "      <th>4</th>\n",
       "      <td>1100056</td>\n",
       "      <td>Cerejeiras</td>\n",
       "      <td>Cone Sul</td>\n",
       "      <td>11006</td>\n",
       "      <td>Cacoal</td>\n",
       "      <td>1101</td>\n",
       "    </tr>\n",
       "  </tbody>\n",
       "</table>\n",
       "</div>"
      ],
      "text/plain": [
       "   geocodigo                   nome            nome  codigo         nome  \\\n",
       "0    1100015  Alta Floresta D'Oeste    Zona da Mata   11005       Cacoal   \n",
       "1    1100023              Ariquemes  Vale do Jamari   11001  Porto Velho   \n",
       "2    1100031                 Cabixi        Cone Sul   11006       Cacoal   \n",
       "3    1100049                 Cacoal            Café   11002       Cacoal   \n",
       "4    1100056             Cerejeiras        Cone Sul   11006       Cacoal   \n",
       "\n",
       "   codigo  \n",
       "0    1101  \n",
       "1    1102  \n",
       "2    1101  \n",
       "3    1101  \n",
       "4    1101  "
      ]
     },
     "execution_count": 8,
     "metadata": {},
     "output_type": "execute_result"
    }
   ],
   "source": [
    "conexao = make_connection()\n",
    "    \n",
    "df = pd.read_sql_query(\n",
    "            '''SELECT m.geocodigo, m.nome, r.nome, r.codigo, mr.nome, mr.codigo\n",
    "                  FROM \"Dengue_global\".\"Municipio\" m\n",
    "                  INNER JOIN \"Dengue_global\".regional r \n",
    "                  ON m.id_regional = r.id \n",
    "                  INNER JOIN \"Dengue_global\".macroregional mr\n",
    "                  ON r.id_macroregional = mr.id;''', conexao)\n",
    "\n",
    "df.head()"
   ]
  },
  {
   "cell_type": "code",
   "execution_count": 9,
   "id": "5f9c62a1",
   "metadata": {},
   "outputs": [],
   "source": [
    "df.to_csv('macro_saude.csv', index =False)"
   ]
  },
  {
   "cell_type": "code",
   "execution_count": null,
   "id": "b646dc20",
   "metadata": {},
   "outputs": [],
   "source": []
  },
  {
   "cell_type": "code",
   "execution_count": null,
   "id": "6ecf50db",
   "metadata": {},
   "outputs": [],
   "source": []
  },
  {
   "cell_type": "code",
   "execution_count": null,
   "id": "24d40855",
   "metadata": {},
   "outputs": [],
   "source": []
  },
  {
   "cell_type": "code",
   "execution_count": null,
   "id": "bfd17341",
   "metadata": {},
   "outputs": [],
   "source": []
  }
 ],
 "metadata": {
  "kernelspec": {
   "display_name": "Python 3 (ipykernel)",
   "language": "python",
   "name": "python3"
  },
  "language_info": {
   "codemirror_mode": {
    "name": "ipython",
    "version": 3
   },
   "file_extension": ".py",
   "mimetype": "text/x-python",
   "name": "python",
   "nbconvert_exporter": "python",
   "pygments_lexer": "ipython3",
   "version": "3.9.16"
  }
 },
 "nbformat": 4,
 "nbformat_minor": 5
}

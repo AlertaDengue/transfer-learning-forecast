{
 "cells": [
  {
   "cell_type": "code",
   "execution_count": 4,
   "id": "cd60d992",
   "metadata": {},
   "outputs": [],
   "source": [
    "import pandas as pd\n",
    "import matplotlib.pyplot as plt"
   ]
  },
  {
   "cell_type": "code",
   "execution_count": 5,
   "id": "de623d94",
   "metadata": {},
   "outputs": [],
   "source": [
    "estados = {\n",
    "    'RJ': 'Rio de Janeiro', 'ES': 'Espírito Santo', \n",
    "    'PR': 'Paraná', 'CE': 'Ceará',\n",
    "               'MA': 'Maranhão', 'MG': 'Minas Gerais', 'SC': 'Santa Catarina', 'PE': 'Pernambuco', \n",
    "               'PB': 'Paraíba', 'RN': 'Rio Grande do Norte', 'PI': 'Piauí', 'AL': 'Alagoas',\n",
    "               'SE': 'Sergipe', 'SP': 'São Paulo', 'RS': 'Rio Grande do Sul','PA': 'Pará',\n",
    "               'AP': 'Amapá', 'RR': 'Roraima', 'RO': 'Rondônia', 'AM': 'Amazonas', 'AC': 'Acre',\n",
    "               'MT': 'Mato Grosso', 'MS': 'Mato Grosso do Sul', 'GO': 'Goiás', 'TO': 'Tocantins',\n",
    "               'DF': 'Distrito Federal', 'BA': 'Bahia'\n",
    "               }\n"
   ]
  },
  {
   "cell_type": "code",
   "execution_count": 6,
   "id": "c12cf0a5",
   "metadata": {},
   "outputs": [
    {
     "data": {
      "text/html": [
       "<div>\n",
       "<style scoped>\n",
       "    .dataframe tbody tr th:only-of-type {\n",
       "        vertical-align: middle;\n",
       "    }\n",
       "\n",
       "    .dataframe tbody tr th {\n",
       "        vertical-align: top;\n",
       "    }\n",
       "\n",
       "    .dataframe thead th {\n",
       "        text-align: right;\n",
       "    }\n",
       "</style>\n",
       "<table border=\"1\" class=\"dataframe\">\n",
       "  <thead>\n",
       "    <tr style=\"text-align: right;\">\n",
       "      <th></th>\n",
       "      <th>municipio_geocodigo</th>\n",
       "      <th>p_rt1</th>\n",
       "      <th>Rt</th>\n",
       "    </tr>\n",
       "    <tr>\n",
       "      <th>data_iniSE</th>\n",
       "      <th></th>\n",
       "      <th></th>\n",
       "      <th></th>\n",
       "    </tr>\n",
       "  </thead>\n",
       "  <tbody>\n",
       "    <tr>\n",
       "      <th>2021-08-08</th>\n",
       "      <td>3303807</td>\n",
       "      <td>0.000000</td>\n",
       "      <td>0.000000</td>\n",
       "    </tr>\n",
       "    <tr>\n",
       "      <th>2021-08-15</th>\n",
       "      <td>3303807</td>\n",
       "      <td>0.000000</td>\n",
       "      <td>0.000000</td>\n",
       "    </tr>\n",
       "    <tr>\n",
       "      <th>2021-09-05</th>\n",
       "      <td>3303807</td>\n",
       "      <td>0.000000</td>\n",
       "      <td>0.000000</td>\n",
       "    </tr>\n",
       "    <tr>\n",
       "      <th>2021-12-12</th>\n",
       "      <td>3303807</td>\n",
       "      <td>0.468511</td>\n",
       "      <td>0.914205</td>\n",
       "    </tr>\n",
       "    <tr>\n",
       "      <th>2021-09-12</th>\n",
       "      <td>3303807</td>\n",
       "      <td>0.000000</td>\n",
       "      <td>0.000000</td>\n",
       "    </tr>\n",
       "  </tbody>\n",
       "</table>\n",
       "</div>"
      ],
      "text/plain": [
       "            municipio_geocodigo     p_rt1        Rt\n",
       "data_iniSE                                         \n",
       "2021-08-08              3303807  0.000000  0.000000\n",
       "2021-08-15              3303807  0.000000  0.000000\n",
       "2021-09-05              3303807  0.000000  0.000000\n",
       "2021-12-12              3303807  0.468511  0.914205\n",
       "2021-09-12              3303807  0.000000  0.000000"
      ]
     },
     "execution_count": 6,
     "metadata": {},
     "output_type": "execute_result"
    }
   ],
   "source": [
    "df_end = pd.DataFrame()\n",
    "\n",
    "for state in estados.keys():\n",
    "    df = pd.read_parquet(f'/Users/eduardoaraujo/Documents/Github/paper-dengue-sc/data/cases/{state}_dengue.parquet',\n",
    "                           columns = ['data_iniSE','municipio_geocodigo', 'p_rt1', 'Rt'])\n",
    "    \n",
    "    \n",
    "    df_end = pd.concat([df_end, df])\n",
    "    \n",
    "df_end.head()"
   ]
  },
  {
   "cell_type": "code",
   "execution_count": 7,
   "id": "d242cd3c",
   "metadata": {},
   "outputs": [
    {
     "data": {
      "text/html": [
       "<div>\n",
       "<style scoped>\n",
       "    .dataframe tbody tr th:only-of-type {\n",
       "        vertical-align: middle;\n",
       "    }\n",
       "\n",
       "    .dataframe tbody tr th {\n",
       "        vertical-align: top;\n",
       "    }\n",
       "\n",
       "    .dataframe thead th {\n",
       "        text-align: right;\n",
       "    }\n",
       "</style>\n",
       "<table border=\"1\" class=\"dataframe\">\n",
       "  <thead>\n",
       "    <tr style=\"text-align: right;\">\n",
       "      <th></th>\n",
       "      <th>municipio_geocodigo</th>\n",
       "      <th>p_rt1</th>\n",
       "      <th>Rt</th>\n",
       "    </tr>\n",
       "  </thead>\n",
       "  <tbody>\n",
       "    <tr>\n",
       "      <th>count</th>\n",
       "      <td>4.021797e+06</td>\n",
       "      <td>4.021797e+06</td>\n",
       "      <td>4.021797e+06</td>\n",
       "    </tr>\n",
       "    <tr>\n",
       "      <th>mean</th>\n",
       "      <td>3.253390e+06</td>\n",
       "      <td>2.831714e-01</td>\n",
       "      <td>9.497975e-01</td>\n",
       "    </tr>\n",
       "    <tr>\n",
       "      <th>std</th>\n",
       "      <td>9.843361e+05</td>\n",
       "      <td>3.289300e-01</td>\n",
       "      <td>3.145247e+00</td>\n",
       "    </tr>\n",
       "    <tr>\n",
       "      <th>min</th>\n",
       "      <td>1.100015e+06</td>\n",
       "      <td>0.000000e+00</td>\n",
       "      <td>0.000000e+00</td>\n",
       "    </tr>\n",
       "    <tr>\n",
       "      <th>25%</th>\n",
       "      <td>2.512200e+06</td>\n",
       "      <td>0.000000e+00</td>\n",
       "      <td>0.000000e+00</td>\n",
       "    </tr>\n",
       "    <tr>\n",
       "      <th>50%</th>\n",
       "      <td>3.146305e+06</td>\n",
       "      <td>6.365446e-03</td>\n",
       "      <td>0.000000e+00</td>\n",
       "    </tr>\n",
       "    <tr>\n",
       "      <th>75%</th>\n",
       "      <td>4.119152e+06</td>\n",
       "      <td>5.000000e-01</td>\n",
       "      <td>4.802720e-01</td>\n",
       "    </tr>\n",
       "    <tr>\n",
       "      <th>max</th>\n",
       "      <td>5.300108e+06</td>\n",
       "      <td>1.000000e+00</td>\n",
       "      <td>1.852162e+01</td>\n",
       "    </tr>\n",
       "  </tbody>\n",
       "</table>\n",
       "</div>"
      ],
      "text/plain": [
       "       municipio_geocodigo         p_rt1            Rt\n",
       "count         4.021797e+06  4.021797e+06  4.021797e+06\n",
       "mean          3.253390e+06  2.831714e-01  9.497975e-01\n",
       "std           9.843361e+05  3.289300e-01  3.145247e+00\n",
       "min           1.100015e+06  0.000000e+00  0.000000e+00\n",
       "25%           2.512200e+06  0.000000e+00  0.000000e+00\n",
       "50%           3.146305e+06  6.365446e-03  0.000000e+00\n",
       "75%           4.119152e+06  5.000000e-01  4.802720e-01\n",
       "max           5.300108e+06  1.000000e+00  1.852162e+01"
      ]
     },
     "execution_count": 7,
     "metadata": {},
     "output_type": "execute_result"
    }
   ],
   "source": [
    "df_end.describe()"
   ]
  },
  {
   "cell_type": "code",
   "execution_count": 8,
   "id": "5b417d31",
   "metadata": {},
   "outputs": [
    {
     "data": {
      "text/plain": [
       "<Axes: >"
      ]
     },
     "execution_count": 8,
     "metadata": {},
     "output_type": "execute_result"
    },
    {
     "data": {
      "image/png": "[encoded data removed]",
      "text/plain": [
       "<Figure size 640x480 with 1 Axes>"
      ]
     },
     "metadata": {},
     "output_type": "display_data"
    }
   ],
   "source": [
    "df_end.Rt.hist()"
   ]
  },
  {
   "cell_type": "code",
   "execution_count": 11,
   "id": "889b510f",
   "metadata": {},
   "outputs": [
    {
     "data": {
      "text/plain": [
       "5388"
      ]
     },
     "execution_count": 11,
     "metadata": {},
     "output_type": "execute_result"
    }
   ],
   "source": [
    "geocodes = df_end.loc[df_end.Rt > 10].municipio_geocodigo.unique()\n",
    "\n",
    "\n",
    "len(geocodes)"
   ]
  },
  {
   "cell_type": "code",
   "execution_count": null,
   "id": "fba295af",
   "metadata": {},
   "outputs": [],
   "source": []
  }
 ],
 "metadata": {
  "kernelspec": {
   "display_name": "Python 3 (ipykernel)",
   "language": "python",
   "name": "python3"
  },
  "language_info": {
   "codemirror_mode": {
    "name": "ipython",
    "version": 3
   },
   "file_extension": ".py",
   "mimetype": "text/x-python",
   "name": "python",
   "nbconvert_exporter": "python",
   "pygments_lexer": "ipython3",
   "version": "3.9.16"
  }
 },
 "nbformat": 4,
 "nbformat_minor": 5
}

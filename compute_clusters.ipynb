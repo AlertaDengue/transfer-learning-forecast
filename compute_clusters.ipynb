{
 "cells": [
  {
   "cell_type": "code",
   "execution_count": 13,
   "id": "ee89f092",
   "metadata": {
    "ExecuteTime": {
     "end_time": "2023-11-20T16:48:55.607094100Z",
     "start_time": "2023-11-20T16:48:55.555929074Z"
    }
   },
   "outputs": [],
   "source": [
    "import os.path\n",
    "import os\n",
    "import pickle\n",
    "import numpy as np\n",
    "import pandas as pd\n",
    "import geopandas as gpd \n",
    "import matplotlib.pyplot as plt\n",
    "from clustering import compute_clusters, lag_ccf"
   ]
  },
  {
   "cell_type": "markdown",
   "id": "023bd79e",
   "metadata": {},
   "source": [
    "The path where the parquet of the cases is saved:"
   ]
  },
  {
   "cell_type": "code",
   "execution_count": 2,
   "id": "20ccbc6f",
   "metadata": {
    "ExecuteTime": {
     "end_time": "2023-11-20T14:15:51.157807481Z",
     "start_time": "2023-11-20T14:15:51.150977171Z"
    }
   },
   "outputs": [],
   "source": [
    "PATH = 'data/cases'"
   ]
  },
  {
   "cell_type": "code",
   "execution_count": 3,
   "id": "369559f6",
   "metadata": {
    "ExecuteTime": {
     "end_time": "2023-11-20T14:15:51.873680821Z",
     "start_time": "2023-11-20T14:15:51.866374973Z"
    }
   },
   "outputs": [],
   "source": [
    "def get_data(state, disease = 'dengue'):\n",
    "    \"\"\"\n",
    "    Create a dataframe with the disease cases in all the cities of the state. \n",
    "\n",
    "    Parameters:\n",
    "    -----------\n",
    "    state : str\n",
    "        UF name\n",
    "    disease: str\n",
    "        disease name options: 'dengue' or 'chik'\n",
    "\n",
    "    Returns:\n",
    "    --------\n",
    "    pd.DataFrame\n",
    "        Dataframe with datetime index where each colum represents the time series of cases for a city of the state\n",
    "    \"\"\"\n",
    "    \n",
    "    df = pd.read_parquet(f'{PATH}/{state}_{disease}.parquet',\n",
    "                    columns = ['municipio_geocodigo', 'casos'])\n",
    "    \n",
    "    \n",
    "    geocodes = df.municipio_geocodigo.unique()\n",
    "        \n",
    "    df_ = None  \n",
    "    columns = []\n",
    "    for geo in geocodes: \n",
    "        columns.append(f'casos_{geo}')\n",
    "        df_s = df.loc[df.municipio_geocodigo == geo]\n",
    "        if df_ is None:\n",
    "            df_ = pd.DataFrame(df_s.casos.copy())\n",
    "        else:\n",
    "            df_ = pd.concat([df_,df_s.casos.copy()],axis=1) \n",
    "        \n",
    "    df_.columns = columns\n",
    "        \n",
    "    return df_"
   ]
  },
  {
   "cell_type": "code",
   "execution_count": 8,
   "outputs": [
    {
     "data": {
      "text/plain": "            casos_3131802  casos_3138302  casos_3150604  casos_3164472  \\\ndata_iniSE                                                               \n2010-01-03              0              0              0              0   \n2010-01-10              0              0              0              0   \n2010-01-17              0              0              0              0   \n2010-01-24              0              0              0              0   \n2010-01-31              1              0              1              0   \n...                   ...            ...            ...            ...   \n2023-06-25              2              0              5              0   \n2023-07-02              1              0              0              0   \n2023-07-09              0              0              0              0   \n2023-07-16              0              0              2              0   \n2023-07-23              0              0              0              0   \n\n            casos_3162104  casos_3131901  casos_3150703  casos_3132008  \\\ndata_iniSE                                                               \n2010-01-03              1              0              0              0   \n2010-01-10              0              0              0              0   \n2010-01-17              1              0              0              0   \n2010-01-24              1              0              0              0   \n2010-01-31              0              0              0              0   \n...                   ...            ...            ...            ...   \n2023-06-25              3              6              3              0   \n2023-07-02              4              0              3              0   \n2023-07-09              0              1              2              0   \n2023-07-16              0              0              3              0   \n2023-07-23              0              0              0              0   \n\n            casos_3138401  casos_3150802  ...  casos_3124104  casos_3104601  \\\ndata_iniSE                                ...                                 \n2010-01-03              0              0  ...              0              1   \n2010-01-10              0              0  ...              3              1   \n2010-01-17              0              0  ...              1              0   \n2010-01-24              0              0  ...              1              0   \n2010-01-31              0              0  ...              3              0   \n...                   ...            ...  ...            ...            ...   \n2023-06-25             18              0  ...             11              1   \n2023-07-02              6              0  ...              8              0   \n2023-07-09             10              0  ...              4              0   \n2023-07-16              5              0  ...              0              0   \n2023-07-23              1              0  ...              0              0   \n\n            casos_3105608  casos_3107901  casos_3102902  casos_3103306  \\\ndata_iniSE                                                               \n2010-01-03              0              0              0              0   \n2010-01-10              0              0              0              0   \n2010-01-17              0              0              0              0   \n2010-01-24              0              0              0              0   \n2010-01-31              0              0              0              0   \n...                   ...            ...            ...            ...   \n2023-06-25              1              0              0              0   \n2023-07-02              3              0              1              0   \n2023-07-09              0              0              0              0   \n2023-07-16              0              0              0              0   \n2023-07-23              0              0              0              0   \n\n            casos_3103207  casos_3103405  casos_3103504  casos_3103009  \ndata_iniSE                                                              \n2010-01-03              0             10             35              0  \n2010-01-10              0             13             61              0  \n2010-01-17              0             17             34              0  \n2010-01-24              0             34              0              0  \n2010-01-31              0              9              3              0  \n...                   ...            ...            ...            ...  \n2023-06-25              0             18             94              0  \n2023-07-02              0             16             71              2  \n2023-07-09              0              7             86              2  \n2023-07-16              0              6             38              3  \n2023-07-23              0              0             21              0  \n\n[708 rows x 853 columns]",
      "text/html": "<div>\n<style scoped>\n    .dataframe tbody tr th:only-of-type {\n        vertical-align: middle;\n    }\n\n    .dataframe tbody tr th {\n        vertical-align: top;\n    }\n\n    .dataframe thead th {\n        text-align: right;\n    }\n</style>\n<table border=\"1\" class=\"dataframe\">\n  <thead>\n    <tr style=\"text-align: right;\">\n      <th></th>\n      <th>casos_3131802</th>\n      <th>casos_3138302</th>\n      <th>casos_3150604</th>\n      <th>casos_3164472</th>\n      <th>casos_3162104</th>\n      <th>casos_3131901</th>\n      <th>casos_3150703</th>\n      <th>casos_3132008</th>\n      <th>casos_3138401</th>\n      <th>casos_3150802</th>\n      <th>...</th>\n      <th>casos_3124104</th>\n      <th>casos_3104601</th>\n      <th>casos_3105608</th>\n      <th>casos_3107901</th>\n      <th>casos_3102902</th>\n      <th>casos_3103306</th>\n      <th>casos_3103207</th>\n      <th>casos_3103405</th>\n      <th>casos_3103504</th>\n      <th>casos_3103009</th>\n    </tr>\n    <tr>\n      <th>data_iniSE</th>\n      <th></th>\n      <th></th>\n      <th></th>\n      <th></th>\n      <th></th>\n      <th></th>\n      <th></th>\n      <th></th>\n      <th></th>\n      <th></th>\n      <th></th>\n      <th></th>\n      <th></th>\n      <th></th>\n      <th></th>\n      <th></th>\n      <th></th>\n      <th></th>\n      <th></th>\n      <th></th>\n      <th></th>\n    </tr>\n  </thead>\n  <tbody>\n    <tr>\n      <th>2010-01-03</th>\n      <td>0</td>\n      <td>0</td>\n      <td>0</td>\n      <td>0</td>\n      <td>1</td>\n      <td>0</td>\n      <td>0</td>\n      <td>0</td>\n      <td>0</td>\n      <td>0</td>\n      <td>...</td>\n      <td>0</td>\n      <td>1</td>\n      <td>0</td>\n      <td>0</td>\n      <td>0</td>\n      <td>0</td>\n      <td>0</td>\n      <td>10</td>\n      <td>35</td>\n      <td>0</td>\n    </tr>\n    <tr>\n      <th>2010-01-10</th>\n      <td>0</td>\n      <td>0</td>\n      <td>0</td>\n      <td>0</td>\n      <td>0</td>\n      <td>0</td>\n      <td>0</td>\n      <td>0</td>\n      <td>0</td>\n      <td>0</td>\n      <td>...</td>\n      <td>3</td>\n      <td>1</td>\n      <td>0</td>\n      <td>0</td>\n      <td>0</td>\n      <td>0</td>\n      <td>0</td>\n      <td>13</td>\n      <td>61</td>\n      <td>0</td>\n    </tr>\n    <tr>\n      <th>2010-01-17</th>\n      <td>0</td>\n      <td>0</td>\n      <td>0</td>\n      <td>0</td>\n      <td>1</td>\n      <td>0</td>\n      <td>0</td>\n      <td>0</td>\n      <td>0</td>\n      <td>0</td>\n      <td>...</td>\n      <td>1</td>\n      <td>0</td>\n      <td>0</td>\n      <td>0</td>\n      <td>0</td>\n      <td>0</td>\n      <td>0</td>\n      <td>17</td>\n      <td>34</td>\n      <td>0</td>\n    </tr>\n    <tr>\n      <th>2010-01-24</th>\n      <td>0</td>\n      <td>0</td>\n      <td>0</td>\n      <td>0</td>\n      <td>1</td>\n      <td>0</td>\n      <td>0</td>\n      <td>0</td>\n      <td>0</td>\n      <td>0</td>\n      <td>...</td>\n      <td>1</td>\n      <td>0</td>\n      <td>0</td>\n      <td>0</td>\n      <td>0</td>\n      <td>0</td>\n      <td>0</td>\n      <td>34</td>\n      <td>0</td>\n      <td>0</td>\n    </tr>\n    <tr>\n      <th>2010-01-31</th>\n      <td>1</td>\n      <td>0</td>\n      <td>1</td>\n      <td>0</td>\n      <td>0</td>\n      <td>0</td>\n      <td>0</td>\n      <td>0</td>\n      <td>0</td>\n      <td>0</td>\n      <td>...</td>\n      <td>3</td>\n      <td>0</td>\n      <td>0</td>\n      <td>0</td>\n      <td>0</td>\n      <td>0</td>\n      <td>0</td>\n      <td>9</td>\n      <td>3</td>\n      <td>0</td>\n    </tr>\n    <tr>\n      <th>...</th>\n      <td>...</td>\n      <td>...</td>\n      <td>...</td>\n      <td>...</td>\n      <td>...</td>\n      <td>...</td>\n      <td>...</td>\n      <td>...</td>\n      <td>...</td>\n      <td>...</td>\n      <td>...</td>\n      <td>...</td>\n      <td>...</td>\n      <td>...</td>\n      <td>...</td>\n      <td>...</td>\n      <td>...</td>\n      <td>...</td>\n      <td>...</td>\n      <td>...</td>\n      <td>...</td>\n    </tr>\n    <tr>\n      <th>2023-06-25</th>\n      <td>2</td>\n      <td>0</td>\n      <td>5</td>\n      <td>0</td>\n      <td>3</td>\n      <td>6</td>\n      <td>3</td>\n      <td>0</td>\n      <td>18</td>\n      <td>0</td>\n      <td>...</td>\n      <td>11</td>\n      <td>1</td>\n      <td>1</td>\n      <td>0</td>\n      <td>0</td>\n      <td>0</td>\n      <td>0</td>\n      <td>18</td>\n      <td>94</td>\n      <td>0</td>\n    </tr>\n    <tr>\n      <th>2023-07-02</th>\n      <td>1</td>\n      <td>0</td>\n      <td>0</td>\n      <td>0</td>\n      <td>4</td>\n      <td>0</td>\n      <td>3</td>\n      <td>0</td>\n      <td>6</td>\n      <td>0</td>\n      <td>...</td>\n      <td>8</td>\n      <td>0</td>\n      <td>3</td>\n      <td>0</td>\n      <td>1</td>\n      <td>0</td>\n      <td>0</td>\n      <td>16</td>\n      <td>71</td>\n      <td>2</td>\n    </tr>\n    <tr>\n      <th>2023-07-09</th>\n      <td>0</td>\n      <td>0</td>\n      <td>0</td>\n      <td>0</td>\n      <td>0</td>\n      <td>1</td>\n      <td>2</td>\n      <td>0</td>\n      <td>10</td>\n      <td>0</td>\n      <td>...</td>\n      <td>4</td>\n      <td>0</td>\n      <td>0</td>\n      <td>0</td>\n      <td>0</td>\n      <td>0</td>\n      <td>0</td>\n      <td>7</td>\n      <td>86</td>\n      <td>2</td>\n    </tr>\n    <tr>\n      <th>2023-07-16</th>\n      <td>0</td>\n      <td>0</td>\n      <td>2</td>\n      <td>0</td>\n      <td>0</td>\n      <td>0</td>\n      <td>3</td>\n      <td>0</td>\n      <td>5</td>\n      <td>0</td>\n      <td>...</td>\n      <td>0</td>\n      <td>0</td>\n      <td>0</td>\n      <td>0</td>\n      <td>0</td>\n      <td>0</td>\n      <td>0</td>\n      <td>6</td>\n      <td>38</td>\n      <td>3</td>\n    </tr>\n    <tr>\n      <th>2023-07-23</th>\n      <td>0</td>\n      <td>0</td>\n      <td>0</td>\n      <td>0</td>\n      <td>0</td>\n      <td>0</td>\n      <td>0</td>\n      <td>0</td>\n      <td>1</td>\n      <td>0</td>\n      <td>...</td>\n      <td>0</td>\n      <td>0</td>\n      <td>0</td>\n      <td>0</td>\n      <td>0</td>\n      <td>0</td>\n      <td>0</td>\n      <td>0</td>\n      <td>21</td>\n      <td>0</td>\n    </tr>\n  </tbody>\n</table>\n<p>708 rows × 853 columns</p>\n</div>"
     },
     "execution_count": 8,
     "metadata": {},
     "output_type": "execute_result"
    }
   ],
   "source": [
    "get_data('MG')"
   ],
   "metadata": {
    "collapsed": false,
    "ExecuteTime": {
     "end_time": "2023-11-20T14:20:42.944274988Z",
     "start_time": "2023-11-20T14:20:42.156360261Z"
    }
   },
   "id": "f40e142be626d320"
  },
  {
   "cell_type": "markdown",
   "id": "3794a943",
   "metadata": {},
   "source": [
    "The cell below apply the hierarchial clusterization of the time series of dengue cases in PR. It is used just the data before 2020, to don't introduce bias in the 2023 predictions. "
   ]
  },
  {
   "cell_type": "code",
   "execution_count": 9,
   "id": "d787ba7e",
   "metadata": {
    "scrolled": true,
    "ExecuteTime": {
     "end_time": "2023-11-20T14:22:19.183047239Z",
     "start_time": "2023-11-20T14:21:07.070116452Z"
    }
   },
   "outputs": [
    {
     "name": "stderr",
     "output_type": "stream",
     "text": [
      "/home/fccoelho/Documentos/Projects_Software/transfer-learning-forecast/clustering.py:41: RuntimeWarning: overflow encountered in scalar multiply\n",
      "  corr = correlate(x, y, mode=\"full\") / np.sqrt(np.dot(x, x) * np.dot(y, y))\n"
     ]
    }
   ],
   "source": [
    "state = 'MG'\n",
    "df = get_data(state)\n",
    "    \n",
    "df = df.loc[df.index.year <= 2020]\n",
    "\n",
    "for col in df.columns: \n",
    "\n",
    "    if sum(df[col]) <= 50:\n",
    "\n",
    "        df.drop(col, axis =1, inplace = True)\n",
    "\n",
    "    else:\n",
    "        df.rename(columns = {col:col[-7:]}, inplace = True)\n",
    "\n",
    "clusters, fig = compute_clusters(df, lags = 10, t = 2, plot = False)\n",
    "with open(f'clusters/clusters_{state}.pkl', 'wb') as f:\n",
    "    pickle.dump(clusters, f)\n"
   ]
  },
  {
   "cell_type": "code",
   "execution_count": null,
   "id": "bc2e52f7",
   "metadata": {
    "ExecuteTime": {
     "end_time": "2023-11-20T14:13:41.875263817Z",
     "start_time": "2023-11-20T14:13:41.874774253Z"
    }
   },
   "outputs": [],
   "source": [
    "clusters[0]"
   ]
  },
  {
   "cell_type": "code",
   "execution_count": 59,
   "id": "4671c437",
   "metadata": {
    "ExecuteTime": {
     "end_time": "2023-11-20T13:48:15.710055109Z",
     "start_time": "2023-11-20T13:48:14.294094931Z"
    }
   },
   "outputs": [],
   "source": [
    "brmap = gpd.read_file('muni_br.gpkg', driver='GPKG')\n",
    "\n",
    "brmap.code_muni = brmap.code_muni.astype(int)"
   ]
  },
  {
   "cell_type": "code",
   "execution_count": 60,
   "id": "70ef8832",
   "metadata": {
    "ExecuteTime": {
     "end_time": "2023-11-20T13:48:15.741234131Z",
     "start_time": "2023-11-20T13:48:15.713674252Z"
    }
   },
   "outputs": [],
   "source": [
    "def plot_map(state, city, brmap = brmap):\n",
    "    '''\n",
    "    Map of the state highlighting the cities that compose the cluster computed\n",
    "    \n",
    "    Parameters:\n",
    "    -----------\n",
    "    state : str\n",
    "        UF name\n",
    "    city : int\n",
    "        7 digit ibge code \n",
    "    brmap: geopandas Dataframe\n",
    "        contains the polygons for all the country. \n",
    "\n",
    "    Returns:\n",
    "    --------\n",
    "    None\n",
    "\n",
    "    '''\n",
    "    \n",
    "    with open(f'clusters/clusters_{state}.pkl', 'rb') as fp:\n",
    "            clusters = pickle.load(fp)\n",
    "    \n",
    "    cluster_city = (list(filter(lambda x: str(city) in x, clusters))[0]).astype(int)\n",
    "    \n",
    "    statemap = brmap[brmap.abbrev_state==state]\n",
    "    \n",
    "    fig, ax = plt.subplots()\n",
    "\n",
    "    statemap.plot(ax = ax, color = 'lightgray')\n",
    "    statemap.loc[statemap.code_muni.isin(cluster_city)].plot(ax = ax, color = 'tab:orange')\n",
    "    ax.set_axis_off()\n",
    "    ax.set_title(f'Cities clusterized with {city}')\n",
    "    plt.show()\n"
   ]
  },
  {
   "cell_type": "markdown",
   "id": "e1c20260",
   "metadata": {},
   "source": [
    "Cities clusterized with FOZ DO IGUAÇU (4108304):"
   ]
  },
  {
   "cell_type": "code",
   "execution_count": 61,
   "id": "f61b11e5",
   "metadata": {
    "scrolled": false,
    "ExecuteTime": {
     "end_time": "2023-11-20T13:48:24.366297667Z",
     "start_time": "2023-11-20T13:48:24.339510290Z"
    }
   },
   "outputs": [
    {
     "ename": "IndexError",
     "evalue": "list index out of range",
     "output_type": "error",
     "traceback": [
      "\u001B[0;31m---------------------------------------------------------------------------\u001B[0m",
      "\u001B[0;31mIndexError\u001B[0m                                Traceback (most recent call last)",
      "Cell \u001B[0;32mIn[61], line 1\u001B[0m\n\u001B[0;32m----> 1\u001B[0m \u001B[43mplot_map\u001B[49m\u001B[43m(\u001B[49m\u001B[38;5;124;43m'\u001B[39;49m\u001B[38;5;124;43mPR\u001B[39;49m\u001B[38;5;124;43m'\u001B[39;49m\u001B[43m,\u001B[49m\u001B[38;5;241;43m4108304\u001B[39;49m\u001B[43m)\u001B[49m\n",
      "Cell \u001B[0;32mIn[60], line 23\u001B[0m, in \u001B[0;36mplot_map\u001B[0;34m(state, city, brmap)\u001B[0m\n\u001B[1;32m     20\u001B[0m \u001B[38;5;28;01mwith\u001B[39;00m \u001B[38;5;28mopen\u001B[39m(\u001B[38;5;124mf\u001B[39m\u001B[38;5;124m'\u001B[39m\u001B[38;5;124mclusters/clusters_\u001B[39m\u001B[38;5;132;01m{\u001B[39;00mstate\u001B[38;5;132;01m}\u001B[39;00m\u001B[38;5;124m.pkl\u001B[39m\u001B[38;5;124m'\u001B[39m, \u001B[38;5;124m'\u001B[39m\u001B[38;5;124mrb\u001B[39m\u001B[38;5;124m'\u001B[39m) \u001B[38;5;28;01mas\u001B[39;00m fp:\n\u001B[1;32m     21\u001B[0m         clusters \u001B[38;5;241m=\u001B[39m pickle\u001B[38;5;241m.\u001B[39mload(fp)\n\u001B[0;32m---> 23\u001B[0m cluster_city \u001B[38;5;241m=\u001B[39m (\u001B[38;5;28;43mlist\u001B[39;49m\u001B[43m(\u001B[49m\u001B[38;5;28;43mfilter\u001B[39;49m\u001B[43m(\u001B[49m\u001B[38;5;28;43;01mlambda\u001B[39;49;00m\u001B[43m \u001B[49m\u001B[43mx\u001B[49m\u001B[43m:\u001B[49m\u001B[43m \u001B[49m\u001B[38;5;28;43mstr\u001B[39;49m\u001B[43m(\u001B[49m\u001B[43mcity\u001B[49m\u001B[43m)\u001B[49m\u001B[43m \u001B[49m\u001B[38;5;129;43;01min\u001B[39;49;00m\u001B[43m \u001B[49m\u001B[43mx\u001B[49m\u001B[43m,\u001B[49m\u001B[43m \u001B[49m\u001B[43mclusters\u001B[49m\u001B[43m)\u001B[49m\u001B[43m)\u001B[49m\u001B[43m[\u001B[49m\u001B[38;5;241;43m0\u001B[39;49m\u001B[43m]\u001B[49m)\u001B[38;5;241m.\u001B[39mastype(\u001B[38;5;28mint\u001B[39m)\n\u001B[1;32m     25\u001B[0m statemap \u001B[38;5;241m=\u001B[39m brmap[brmap\u001B[38;5;241m.\u001B[39mabbrev_state\u001B[38;5;241m==\u001B[39mstate]\n\u001B[1;32m     27\u001B[0m fig, ax \u001B[38;5;241m=\u001B[39m plt\u001B[38;5;241m.\u001B[39msubplots()\n",
      "\u001B[0;31mIndexError\u001B[0m: list index out of range"
     ]
    }
   ],
   "source": [
    "plot_map('PR',4108304)"
   ]
  },
  {
   "cell_type": "markdown",
   "id": "0d09906b",
   "metadata": {},
   "source": [
    "### Computing the clusters for all the states: "
   ]
  },
  {
   "cell_type": "code",
   "execution_count": 16,
   "id": "bb09ddff",
   "metadata": {
    "ExecuteTime": {
     "end_time": "2023-11-20T16:58:25.310731533Z",
     "start_time": "2023-11-20T16:56:40.715120759Z"
    }
   },
   "outputs": [],
   "source": [
    "estados = {'RJ': 'Rio de Janeiro', 'ES': 'Espírito Santo', 'PR': 'Paraná', 'CE': 'Ceará',\n",
    "               'MA': 'Maranhão', 'MG': 'Minas Gerais', 'SC': 'Santa Catarina', 'PE': 'Pernambuco', \n",
    "               'PB': 'Paraíba', 'RN': 'Rio Grande do Norte', 'PI': 'Piauí', 'AL': 'Alagoas',\n",
    "               'SE': 'Sergipe', 'SP': 'São Paulo', 'RS': 'Rio Grande do Sul','PA': 'Pará',\n",
    "               'AP': 'Amapá', 'RR': 'Roraima', 'RO': 'Rondônia', 'AM': 'Amazonas', 'AC': 'Acre',\n",
    "               'MT': 'Mato Grosso', 'MS': 'Mato Grosso do Sul', 'GO': 'Goiás', 'TO': 'Tocantins',\n",
    "               # 'DF': 'Distrito Federal', # we cant clusterize the DF because it is not a state\n",
    "               'BA': 'Bahia'\n",
    "               }\n",
    "\n",
    "\n",
    "for state in estados.keys(): \n",
    "    if os.path.exists(f'clusters/clusters_{state}.pkl'):\n",
    "        continue\n",
    "    df = get_data(state)\n",
    "    \n",
    "    df = df.loc[df.index.year <= 2020]\n",
    "\n",
    "    for col in df.columns: \n",
    "\n",
    "        if sum(df[col]) <= 50:\n",
    "\n",
    "            df.drop(col, axis =1, inplace = True)\n",
    "\n",
    "        else:\n",
    "            df.rename(columns = {col:col[-7:]}, inplace = True)\n",
    "\n",
    "    clusters, fig = compute_clusters(df, lags = 10, t = 2, plot = False)\n",
    "    with open(f'clusters/clusters_{state}.pkl', 'wb') as f:\n",
    "        pickle.dump(clusters, f)"
   ]
  },
  {
   "cell_type": "code",
   "execution_count": null,
   "id": "f67cf62a",
   "metadata": {},
   "outputs": [],
   "source": []
  }
 ],
 "metadata": {
  "kernelspec": {
   "display_name": "Python 3 (ipykernel)",
   "language": "python",
   "name": "python3"
  },
  "language_info": {
   "codemirror_mode": {
    "name": "ipython",
    "version": 3
   },
   "file_extension": ".py",
   "mimetype": "text/x-python",
   "name": "python",
   "nbconvert_exporter": "python",
   "pygments_lexer": "ipython3",
   "version": "3.9.16"
  }
 },
 "nbformat": 4,
 "nbformat_minor": 5
}
